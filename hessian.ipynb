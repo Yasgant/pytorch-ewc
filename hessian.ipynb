{
 "cells": [
  {
   "cell_type": "code",
   "execution_count": 1,
   "metadata": {},
   "outputs": [],
   "source": [
    "import numpy as np\n",
    "import torch\n",
    "import torch.autograd as autograd"
   ]
  },
  {
   "cell_type": "code",
   "execution_count": 2,
   "metadata": {},
   "outputs": [],
   "source": [
    "sample_size = 10000\n",
    "sample_dim = 10\n",
    "noise_scale = 1.0\n",
    "train_split = 0.8\n",
    "theta_range = 10\n",
    "data_range = 100\n",
    "epoch = 50000\n",
    "lr = 1e-5"
   ]
  },
  {
   "cell_type": "code",
   "execution_count": 3,
   "metadata": {},
   "outputs": [],
   "source": [
    "def get_data(sample_size, sample_dim, noise_scale, train_split):\n",
    "    theta = np.random.uniform(-theta_range, theta_range, sample_dim)\n",
    "    X = np.random.uniform(-data_range, data_range, (sample_size, sample_dim))\n",
    "    y = np.dot(X, theta) + noise_scale * np.random.normal(0, 1, sample_size)\n",
    "    train_size = int(sample_size * train_split)\n",
    "    X_train, y_train = X[:train_size], y[:train_size]\n",
    "    X_test, y_test = X[train_size:], y[train_size:]\n",
    "    print(\"Actual theta: \", theta)\n",
    "    return X_train, y_train, X_test, y_test"
   ]
  },
  {
   "cell_type": "code",
   "execution_count": 4,
   "metadata": {},
   "outputs": [
    {
     "name": "stdout",
     "output_type": "stream",
     "text": [
      "Actual theta:  [ 8.28176164 -5.65855218 -1.59705275 -0.69252703  1.72765861 -5.55793897\n",
      " -8.37143006  5.51600464 -5.68358575 -4.99899531]\n"
     ]
    }
   ],
   "source": [
    "X_train, y_train, X_test, y_test = get_data(sample_size, sample_dim, noise_scale, train_split)\n",
    "X_train, y_train, X_test, y_test = torch.tensor(X_train), torch.tensor(y_train), torch.tensor(X_test), torch.tensor(y_test)\n",
    "\n",
    "def get_loss(theta, X=X_test, y=y_test):\n",
    "    return torch.mean((torch.matmul(X, theta) - y)**2)"
   ]
  },
  {
   "cell_type": "code",
   "execution_count": 5,
   "metadata": {},
   "outputs": [
    {
     "name": "stdout",
     "output_type": "stream",
     "text": [
      "Estimated theta: tensor([ 8.2816, -5.6583, -1.5969, -0.6924,  1.7276, -5.5581, -8.3716,  5.5158,\n",
      "        -5.6839, -4.9991], dtype=torch.float64)\n"
     ]
    }
   ],
   "source": [
    "theta = np.random.random(sample_dim)\n",
    "theta = torch.tensor(theta, requires_grad=True)\n",
    "for _ in range(epoch):\n",
    "    loss = get_loss(theta, X_train, y_train)\n",
    "    loss.backward()\n",
    "    theta.data -= lr * theta.grad\n",
    "    theta.grad.zero_()\n",
    "print(f\"Estimated theta: {theta.data}\")\n",
    "hessian = autograd.functional.hessian(get_loss, theta)\n",
    "#print(f\"Hessian: {hessian}\")"
   ]
  },
  {
   "cell_type": "code",
   "execution_count": 6,
   "metadata": {},
   "outputs": [
    {
     "name": "stdout",
     "output_type": "stream",
     "text": [
      "Sum of all entries: 77716.0611666939\n",
      "Sum of diagonal entries: 66605.85415767039\n",
      "Ratio: 0.857041043482722\n"
     ]
    }
   ],
   "source": [
    "all_entries = hessian.abs().sum()\n",
    "diagonal_entries = torch.diag(hessian).abs().sum()\n",
    "print(f\"Sum of all entries: {all_entries}\")\n",
    "print(f\"Sum of diagonal entries: {diagonal_entries}\")\n",
    "print(f\"Ratio: {diagonal_entries / all_entries}\")\n",
    "# Observation: The ratio is proportional to sample_size/sample_dim."
   ]
  }
 ],
 "metadata": {
  "kernelspec": {
   "display_name": "Python 3.9.13 ('ewc')",
   "language": "python",
   "name": "python3"
  },
  "language_info": {
   "codemirror_mode": {
    "name": "ipython",
    "version": 3
   },
   "file_extension": ".py",
   "mimetype": "text/x-python",
   "name": "python",
   "nbconvert_exporter": "python",
   "pygments_lexer": "ipython3",
   "version": "3.9.13"
  },
  "orig_nbformat": 4,
  "vscode": {
   "interpreter": {
    "hash": "75bcbc7ecb8809637fbec3e0f1b4e88beb1d0779e970f7f640759102f9000d4d"
   }
  }
 },
 "nbformat": 4,
 "nbformat_minor": 2
}
