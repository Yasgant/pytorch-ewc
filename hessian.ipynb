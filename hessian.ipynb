{
 "cells": [
  {
   "cell_type": "code",
   "execution_count": 9,
   "metadata": {},
   "outputs": [],
   "source": [
    "import numpy as np\n",
    "import torch\n",
    "import torch.autograd as autograd\n",
    "import matplotlib.pyplot as plt"
   ]
  },
  {
   "cell_type": "code",
   "execution_count": 10,
   "metadata": {},
   "outputs": [],
   "source": [
    "sample_size = 10000\n",
    "sample_dim = 10\n",
    "noise_scale = 1.0\n",
    "train_split = 0.8\n",
    "theta_range = 10\n",
    "data_range = 100\n",
    "epoch = 50000\n",
    "lr = 1e-5"
   ]
  },
  {
   "cell_type": "code",
   "execution_count": 11,
   "metadata": {},
   "outputs": [],
   "source": [
    "def get_data(sample_size, sample_dim, noise_scale, train_split):\n",
    "    theta = np.random.uniform(-theta_range, theta_range, sample_dim)\n",
    "    X = np.random.uniform(-data_range, data_range, (sample_size, sample_dim))\n",
    "    y = np.dot(X, theta) + noise_scale * np.random.normal(0, 1, sample_size)\n",
    "    train_size = int(sample_size * train_split)\n",
    "    X_train, y_train = X[:train_size], y[:train_size]\n",
    "    X_test, y_test = X[train_size:], y[train_size:]\n",
    "    #print(\"Actual theta: \", theta)\n",
    "    return X_train, y_train, X_test, y_test"
   ]
  },
  {
   "cell_type": "code",
   "execution_count": 12,
   "metadata": {},
   "outputs": [],
   "source": [
    "class Model(torch.nn.Module):\n",
    "    def __init__(self, sample_dim, lr, X_train, y_train):\n",
    "        super().__init__()\n",
    "        self.theta = torch.nn.Parameter(torch.randn(sample_dim, 1))\n",
    "        self.optimizer = torch.optim.SGD(self.parameters(), lr=lr)\n",
    "        self.loss_fn = torch.nn.MSELoss()\n",
    "        self.X_train, self.y_train = X_train, y_train\n",
    "\n",
    "    def forward(self, X):\n",
    "        return torch.matmul(X, self.theta).squeeze()\n",
    "    \n",
    "    def train(self, X, y, epoch, lr):\n",
    "        for _ in range(epoch):\n",
    "            self.optimizer.zero_grad()\n",
    "            loss = self.loss_fn(self(X), y)\n",
    "            loss.backward()\n",
    "            self.optimizer.step()\n",
    "    \n",
    "    def test(self, X, y):\n",
    "        return self.loss_fn(self(X), y)\n",
    "    \n",
    "    def get_loss_with_theta(self, theta):\n",
    "        return self.loss_fn(torch.matmul(self.X_train, theta).squeeze(), self.y_train)\n",
    "    \n",
    "    def get_hessian(self, X, y):\n",
    "        return autograd.functional.hessian(self.get_loss_with_theta, self.theta.squeeze())"
   ]
  },
  {
   "cell_type": "code",
   "execution_count": 13,
   "metadata": {},
   "outputs": [
    {
     "name": "stdout",
     "output_type": "stream",
     "text": [
      "log_ratio: 0, sample_size: 10, sample_dim: 10\n",
      "Sum of all entries: 373195.71875\n",
      "Sum of diagonal entries: 64533.31640625\n",
      "Ratio: 0.1729208379983902\n",
      "\n",
      "log_ratio: 0.5, sample_size: 31, sample_dim: 10\n",
      "Sum of all entries: 319616.8125\n",
      "Sum of diagonal entries: 75034.3984375\n",
      "Ratio: 0.23476362228393555\n",
      "\n",
      "log_ratio: 1, sample_size: 100, sample_dim: 10\n",
      "Sum of all entries: 179443.28125\n",
      "Sum of diagonal entries: 68968.0546875\n",
      "Ratio: 0.38434457778930664\n",
      "\n",
      "log_ratio: 1.5, sample_size: 316, sample_dim: 10\n",
      "Sum of all entries: 122154.59375\n",
      "Sum of diagonal entries: 63312.52734375\n",
      "Ratio: 0.5182983875274658\n",
      "\n",
      "log_ratio: 2, sample_size: 1000, sample_dim: 10\n",
      "Sum of all entries: 101216.21875\n",
      "Sum of diagonal entries: 66329.0078125\n",
      "Ratio: 0.6553199291229248\n",
      "\n",
      "log_ratio: 2.5, sample_size: 3162, sample_dim: 10\n",
      "Sum of all entries: 84543.203125\n",
      "Sum of diagonal entries: 68134.53125\n",
      "Ratio: 0.8059137463569641\n",
      "\n",
      "log_ratio: 3, sample_size: 10000, sample_dim: 10\n",
      "Sum of all entries: 78129.5\n",
      "Sum of diagonal entries: 66819.34375\n",
      "Ratio: 0.8552383184432983\n",
      "\n",
      "log_ratio: 0, sample_size: 50, sample_dim: 50\n",
      "Sum of all entries: 4218629.5\n",
      "Sum of diagonal entries: 318708.375\n",
      "Ratio: 0.07554784417152405\n",
      "\n",
      "log_ratio: 0.5, sample_size: 158, sample_dim: 50\n",
      "Sum of all entries: 2559359.25\n",
      "Sum of diagonal entries: 321161.5625\n",
      "Ratio: 0.1254851371049881\n",
      "\n",
      "log_ratio: 1, sample_size: 500, sample_dim: 50\n",
      "Sum of all entries: 1581635.0\n",
      "Sum of diagonal entries: 331613.09375\n",
      "Ratio: 0.2096647471189499\n",
      "\n",
      "log_ratio: 1.5, sample_size: 1581, sample_dim: 50\n",
      "Sum of all entries: 1094548.125\n",
      "Sum of diagonal entries: 334674.0\n",
      "Ratio: 0.3057645261287689\n",
      "\n",
      "log_ratio: 2, sample_size: 5000, sample_dim: 50\n",
      "Sum of all entries: 743828.75\n",
      "Sum of diagonal entries: 334696.125\n",
      "Ratio: 0.4499639570713043\n",
      "\n",
      "log_ratio: 2.5, sample_size: 15811, sample_dim: 50\n",
      "Sum of all entries: 572989.375\n",
      "Sum of diagonal entries: 334366.65625\n",
      "Ratio: 0.5835477709770203\n",
      "\n",
      "log_ratio: 3, sample_size: 50000, sample_dim: 50\n",
      "Sum of all entries: 464830.9375\n",
      "Sum of diagonal entries: 333034.90625\n",
      "Ratio: 0.7164645791053772\n",
      "\n",
      "log_ratio: 0, sample_size: 100, sample_dim: 100\n",
      "Sum of all entries: 12466130.0\n",
      "Sum of diagonal entries: 674960.25\n",
      "Ratio: 0.054143525660037994\n",
      "\n",
      "log_ratio: 0.5, sample_size: 316, sample_dim: 100\n",
      "Sum of all entries: 7359401.0\n",
      "Sum of diagonal entries: 673896.3125\n",
      "Ratio: 0.0915694534778595\n",
      "\n",
      "log_ratio: 1, sample_size: 1000, sample_dim: 100\n",
      "Sum of all entries: 4415996.0\n",
      "Sum of diagonal entries: 667942.875\n",
      "Ratio: 0.15125532448291779\n",
      "\n",
      "log_ratio: 1.5, sample_size: 3162, sample_dim: 100\n",
      "Sum of all entries: 2758638.0\n",
      "Sum of diagonal entries: 663189.625\n",
      "Ratio: 0.24040472507476807\n",
      "\n",
      "log_ratio: 2, sample_size: 10000, sample_dim: 100\n",
      "Sum of all entries: 1882302.125\n",
      "Sum of diagonal entries: 668704.75\n",
      "Ratio: 0.3552590012550354\n",
      "\n",
      "log_ratio: 2.5, sample_size: 31622, sample_dim: 100\n",
      "Sum of all entries: 1341223.75\n",
      "Sum of diagonal entries: 668372.0625\n",
      "Ratio: 0.4983300268650055\n",
      "\n",
      "log_ratio: 3, sample_size: 100000, sample_dim: 100\n",
      "Sum of all entries: 1032752.5625\n",
      "Sum of diagonal entries: 666546.8125\n",
      "Ratio: 0.645408034324646\n",
      "\n"
     ]
    },
    {
     "data": {
      "image/png": "[encoded data removed]",
      "text/plain": [
       "<Figure size 640x480 with 1 Axes>"
      ]
     },
     "metadata": {},
     "output_type": "display_data"
    }
   ],
   "source": [
    "log_ratio_set = [0, 0.5, 1, 1.5, 2, 2.5, 3]\n",
    "dim_set = [10, 50, 100]\n",
    "size_ratio = []\n",
    "hessian_ratio = []\n",
    "for sample_dim in dim_set:\n",
    "    for log_ratio in log_ratio_set:\n",
    "        sample_size = int(sample_dim * 10**log_ratio)\n",
    "        X_train, y_train, X_test, y_test = get_data(sample_size, sample_dim, noise_scale, train_split)\n",
    "        X_train, y_train, X_test, y_test = torch.tensor(X_train, dtype=torch.float32), torch.tensor(y_train, dtype=torch.float32), torch.tensor(X_test, dtype=torch.float32), torch.tensor(y_test, dtype=torch.float32)\n",
    "        model = Model(sample_dim, lr, X_test, y_test)\n",
    "        model.train(X_train, y_train, epoch, lr)\n",
    "        print(f\"log_ratio: {log_ratio}, sample_size: {sample_size}, sample_dim: {sample_dim}\")\n",
    "        #print(f\"Estimated theta: {model.theta.data.T}\")\n",
    "        hessian = model.get_hessian(X_test, y_test)\n",
    "        #print(f\"Hessian: {hessian}\")\n",
    "        all_entries = hessian.abs().sum()\n",
    "        diagonal_entries = torch.diag(hessian).abs().sum()\n",
    "        print(f\"Sum of all entries: {all_entries}\")\n",
    "        print(f\"Sum of diagonal entries: {diagonal_entries}\")\n",
    "        print(f\"Ratio: {diagonal_entries / all_entries}\")\n",
    "        print()\n",
    "        size_ratio.append(log_ratio)\n",
    "        hessian_ratio.append(diagonal_entries / all_entries)\n",
    "\n",
    "plt.plot(size_ratio, hessian_ratio, 'o')\n",
    "plt.show()"
   ]
  },
  {
   "cell_type": "code",
   "execution_count": 14,
   "metadata": {},
   "outputs": [
    {
     "data": {
      "image/png": "[encoded data removed]",
      "text/plain": [
       "<Figure size 640x480 with 1 Axes>"
      ]
     },
     "metadata": {},
     "output_type": "display_data"
    }
   ],
   "source": [
    "plt.plot(size_ratio[:7], hessian_ratio[:7], 'ro')\n",
    "plt.plot(size_ratio[7:14], hessian_ratio[7:14], 'bo')\n",
    "plt.plot(size_ratio[14:], hessian_ratio[14:], 'go')\n",
    "plt.xlabel(\"log_size_ratio\")\n",
    "plt.ylabel(\"hessian_ratio\")\n",
    "plt.legend([\"dim=10\", \"dim=50\", \"dim=100\"])\n",
    "plt.savefig(\"./arts/hessian_ratio.png\")\n",
    "plt.show()"
   ]
  }
 ],
 "metadata": {
  "kernelspec": {
   "display_name": "Python 3.9.13 ('ewc')",
   "language": "python",
   "name": "python3"
  },
  "language_info": {
   "codemirror_mode": {
    "name": "ipython",
    "version": 3
   },
   "file_extension": ".py",
   "mimetype": "text/x-python",
   "name": "python",
   "nbconvert_exporter": "python",
   "pygments_lexer": "ipython3",
   "version": "3.9.13"
  },
  "orig_nbformat": 4,
  "vscode": {
   "interpreter": {
    "hash": "75bcbc7ecb8809637fbec3e0f1b4e88beb1d0779e970f7f640759102f9000d4d"
   }
  }
 },
 "nbformat": 4,
 "nbformat_minor": 2
}
